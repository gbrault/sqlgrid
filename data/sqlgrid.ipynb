{
 "cells": [
  {
   "cell_type": "markdown",
   "metadata": {},
   "source": [
    "## Setup"
   ]
  },
  {
   "cell_type": "code",
   "execution_count": 1,
   "metadata": {},
   "outputs": [],
   "source": [
    "import sqlgrid\n",
    "from sqlgrid.sqlData import sqlData\n",
    "import ipywidgets as widgets"
   ]
  },
  {
   "cell_type": "code",
   "execution_count": 2,
   "metadata": {},
   "outputs": [],
   "source": [
    "databasePath = \"sqlite:///./chinook.db\""
   ]
  },
  {
   "cell_type": "code",
   "execution_count": 3,
   "metadata": {},
   "outputs": [],
   "source": [
    "grid_options = {\n",
    "    # SlickGrid options\n",
    "    'fullWidthRows': False,\n",
    "    'syncColumnCellResize': True,\n",
    "    'forceFitColumns': True,\n",
    "    'defaultColumnWidth': 150,\n",
    "    'rowHeight': 28,\n",
    "    'enableColumnReorder': True,\n",
    "    'enableTextSelectionOnCells': True,\n",
    "    'editable': True,\n",
    "    'autoEdit': False,\n",
    "    'explicitInitialization': True,\n",
    "    'enableCellNavigation': True,\n",
    "\n",
    "    # Qgrid options\n",
    "    'maxVisibleRows': 10,\n",
    "    'minVisibleRows': 8,\n",
    "    'sortable': True,\n",
    "    'filterable': True,\n",
    "    'highlightSelectedCell': True,\n",
    "    'highlightSelectedRow': True\n",
    "}"
   ]
  },
  {
   "cell_type": "code",
   "execution_count": 4,
   "metadata": {},
   "outputs": [],
   "source": [
    "out = widgets.Output(layout=widgets.Layout(border='1px solid black'))"
   ]
  },
  {
   "cell_type": "code",
   "execution_count": 5,
   "metadata": {},
   "outputs": [
    {
     "data": {
      "application/vnd.jupyter.widget-view+json": {
       "model_id": "8a3b57ab86ad4334ac7167e09d78df50",
       "version_major": 2,
       "version_minor": 0
      },
      "text/plain": [
       "Output(layout=Layout(border='1px solid black'))"
      ]
     },
     "metadata": {},
     "output_type": "display_data"
    }
   ],
   "source": [
    "out"
   ]
  },
  {
   "cell_type": "code",
   "execution_count": 6,
   "metadata": {},
   "outputs": [],
   "source": [
    "sql1 = sqlData(path=databasePath, out=out)"
   ]
  },
  {
   "cell_type": "code",
   "execution_count": 7,
   "metadata": {},
   "outputs": [],
   "source": [
    "grid1 = sqlgrid.gridctl(sql1, grid_options=grid_options, tableScan=True )"
   ]
  },
  {
   "cell_type": "code",
   "execution_count": 8,
   "metadata": {},
   "outputs": [
    {
     "data": {
      "application/vnd.jupyter.widget-view+json": {
       "model_id": "8b9dcc0a2dd743aba1ad55d7a4dacc4f",
       "version_major": 2,
       "version_minor": 0
      },
      "text/plain": [
       "VBox(children=(VBox(children=(HBox(children=(Button(icon='bars', layout=Layout(width='5%'), style=ButtonStyle(…"
      ]
     },
     "metadata": {},
     "output_type": "display_data"
    }
   ],
   "source": [
    "grid1._gridctl"
   ]
  },
  {
   "cell_type": "code",
   "execution_count": 9,
   "metadata": {},
   "outputs": [
    {
     "name": "stdout",
     "output_type": "stream",
     "text": [
      "Help on sqlData in module sqlgrid.sqlData object:\n",
      "\n",
      "class sqlData(builtins.object)\n",
      " |  sqlData(path=None, table=None, page=100, out=None, filter=None)\n",
      " |  \n",
      " |  sqlData class is the adapter between sqlgridWidget and an SQL DataSource\n",
      " |  New type accepted by the show_grid function which creates a Grid Widget\n",
      " |  \n",
      " |  Parameters\n",
      " |  ----------\n",
      " |      path: string\n",
      " |          SQLAlchemy connection string to access the database\n",
      " |      table: string\n",
      " |          which table of the database is targeted\n",
      " |      page: integer\n",
      " |          should be the same value as PAGE_SIZE in grid.py\n",
      " |      out: ipywidget.output\n",
      " |          if one wants to output some information (it's for debug)\n",
      " |      filter: list\n",
      " |          list of columns to filter from the table\n",
      " |  \n",
      " |  See Also\n",
      " |  --------\n",
      " |      sqlgrid.show_grid: \n",
      " |           open an sqlgrid in jupyter Lab notebook\n",
      " |  \n",
      " |  Notes\n",
      " |  -----\n",
      " |  How to set breakpoints in this code (usable in Jupyter Notebooks)::\n",
      " |  \n",
      " |      import ipdb; ipdb.set_trace()\n",
      " |      # don't always works however\n",
      " |  \n",
      " |  Methods defined here:\n",
      " |  \n",
      " |  __init__(self, path=None, table=None, page=100, out=None, filter=None)\n",
      " |      Initialize self.  See help(type(self)) for accurate signature.\n",
      " |  \n",
      " |  add_to_convert(self, item)\n",
      " |  \n",
      " |  distinctValuesOrdered(self, column, otype)\n",
      " |      Get the distinct values of a given column sorted in ascending order\n",
      " |      \n",
      " |      Parameters\n",
      " |      ----------\n",
      " |          column: string\n",
      " |              Which column to look distinct values for\n",
      " |          otype: string\n",
      " |              column type ('text',...)\n",
      " |      \n",
      " |      Returns\n",
      " |      -------\n",
      " |          list:\n",
      " |              a list [] of sorted distinct values for the given column, null values are replaced by 'None' for a text column\n",
      " |  \n",
      " |  getCast(self, column)\n",
      " |      get the appropriate cast statement depending upon engine\n",
      " |  \n",
      " |  getColumns(self)\n",
      " |      Using the self.filter list, returns an SQL compliant column list\n",
      " |      Adds the index column if existing in the database table\n",
      " |      \n",
      " |      Parameters\n",
      " |      ----------\n",
      " |          self.filter: list\n",
      " |              The list of column to filter the database table\n",
      " |      \n",
      " |      Returns\n",
      " |      -------\n",
      " |          string\n",
      " |              An SQL compliant, comma separated and backtick quoted, list of columns\n",
      " |  \n",
      " |  getTables(self)\n",
      " |      tables = List of database's Tables\n",
      " |  \n",
      " |  minmax(self, column)\n",
      " |      Find the minimun and the maximum of an interger or float column\n",
      " |      \n",
      " |      Parameters\n",
      " |      ----------\n",
      " |          column: string\n",
      " |              which column to calculate (min,max)\n",
      " |      \n",
      " |      Returns\n",
      " |      -------\n",
      " |          tuple\n",
      " |              (min,max) of a given column\n",
      " |  \n",
      " |  order_by(self)\n",
      " |      Using bound grid state, returns the SQL \"ORDER BY\" sub-statement\n",
      " |      \n",
      " |      Parameters\n",
      " |      ----------\n",
      " |          self._widget._sort_field: string\n",
      " |              which column to sort with\n",
      " |          self._widget._sort_ascending: boolean\n",
      " |              if True, set 'ASC' if False, set 'DESC'\n",
      " |      \n",
      " |      Returns\n",
      " |      -------\n",
      " |          string\n",
      " |              the sql \"ORDER BY\" sub-statement or \"\" if no order directive set\n",
      " |  \n",
      " |  remove_from_convert(self, colname)\n",
      " |  \n",
      " |  set_filter(self, filter)\n",
      " |  \n",
      " |  where(self, exclude=[])\n",
      " |      Using bound grid state, returns the SQL \"WHERE\" sub-statement or \"\" if no filtering set\n",
      " |      \n",
      " |      Parameters\n",
      " |      ----------\n",
      " |          exclude: list,(default=[])\n",
      " |                  list of columns to exclude when calculating where\n",
      " |          self._widget._columns: list\n",
      " |                  list of grid's columns\n",
      " |          self._widget_filter_tables: list\n",
      " |                  filters set via the grid gui (can exist or not for a given column)\n",
      " |          self._widget._columns[col]['filter_info']: dict\n",
      " |                  holds the filter type and other descriptors depending upon type\n",
      " |      \n",
      " |      Returns\n",
      " |      -------\n",
      " |          string\n",
      " |                the sql \"WHERE\" sub-statement or \"\" if no filtering conditions are set\n",
      " |  \n",
      " |  ----------------------------------------------------------------------\n",
      " |  Data descriptors defined here:\n",
      " |  \n",
      " |  __dict__\n",
      " |      dictionary for instance variables (if defined)\n",
      " |  \n",
      " |  __weakref__\n",
      " |      list of weak references to the object (if defined)\n",
      " |  \n",
      " |  table\n",
      "\n"
     ]
    }
   ],
   "source": [
    "help(sql1)"
   ]
  },
  {
   "cell_type": "code",
   "execution_count": 10,
   "metadata": {},
   "outputs": [
    {
     "name": "stdout",
     "output_type": "stream",
     "text": [
      "Help on gridctl in module sqlgrid.grid object:\n",
      "\n",
      "class gridctl(builtins.object)\n",
      " |  gridctl(data, grid_options=None, tableScan=False)\n",
      " |  \n",
      " |      An extended grid including a controller for column setup and the resulting grid\n",
      " |  \n",
      " |          data : DataFrame, sqlData\n",
      " |              The data source: a pandas DataFrame or an SQLAlchemy connection string\n",
      " |          grid_options: list\n",
      " |              Key argument, Set the grid behavior\n",
      " |          tableScan: Boolean\n",
      " |              Key argument, if true the UI has one more dropdown, showing the list of the SQL database tables.\n",
      " |              This dropdown allows browsing the selected table.\n",
      " |  \n",
      " |  ::\n",
      " |   \n",
      " |      from sqlgrid.sqlData import sqlData\n",
      " |      grid_options = {\n",
      " |          # SlickGrid options\n",
      " |          'fullWidthRows': False,\n",
      " |          'syncColumnCellResize': True,\n",
      " |          'forceFitColumns': True,\n",
      " |          'defaultColumnWidth': 150,\n",
      " |          'rowHeight': 28,\n",
      " |          'enableColumnReorder': True,\n",
      " |          'enableTextSelectionOnCells': True,\n",
      " |          'editable': True,\n",
      " |          'autoEdit': False,\n",
      " |          'explicitInitialization': True,\n",
      " |          'enableCellNavigation': True,\n",
      " |  \n",
      " |          # Qgrid options\n",
      " |          'maxVisibleRows': 10,\n",
      " |          'minVisibleRows': 8,\n",
      " |          'sortable': True,\n",
      " |          'filterable': True,\n",
      " |          'highlightSelectedCell': True,\n",
      " |          'highlightSelectedRow': True\n",
      " |      }\n",
      " |      file = f\"<path of the SQLITE database>\"\n",
      " |      databaselite = f\"sqlite:///{file}\"\n",
      " |      table = f\"<table name in the database>\"\n",
      " |      # if you want to have output from the sqlData instance (mostly debug)\n",
      " |      out = widgets.Output(layout=Layout(border='1px solid black'))\n",
      " |      sql = sqlData(path=databaselite, table=table, out=out)\n",
      " |      grid = sqlgrid.gridctl(sql, grid_options=grid_options)\n",
      " |      # show the grid\n",
      " |      grid._gridctl\n",
      " |  \n",
      " |  Methods defined here:\n",
      " |  \n",
      " |  __init__(self, data, grid_options=None, tableScan=False)\n",
      " |      Initialize self.  See help(type(self)) for accurate signature.\n",
      " |  \n",
      " |  columnSetup(self, event, grid)\n",
      " |      Show/Hide columns, bound to the self._columns grid, used to setup the main grid behavior\n",
      " |      \n",
      " |      Parameters\n",
      " |      ----------\n",
      " |          event:  list\n",
      " |                  the grid change event (see: cell_edited)\n",
      " |          grid:   sqlgrid.sqlgridWidget\n",
      " |                  the grid object which changed\n",
      " |  \n",
      " |  create_n_display_all(self, columndata=None, col_defs=None)\n",
      " |  \n",
      " |  def_columns(self)\n",
      " |  \n",
      " |  handle_change_column_order(self, event, sqlgrid_widget)\n",
      " |      Handle column reordering event\n",
      " |      \n",
      " |      Parameters\n",
      " |      ----------\n",
      " |          event: list\n",
      " |              the data associated with the event {\"name\":\"change_column_order\",\"filter\":[col1,col2,col3,...]}\n",
      " |          sqlgrid_widget: sqlgridWidget\n",
      " |              the grid which triggered the event\n",
      " |  \n",
      " |  menu_click(self, b)\n",
      " |      Show/Hide the column setup grid, bound to self.menu button\n",
      " |      \n",
      " |      Parameters\n",
      " |      ----------\n",
      " |          b:  ipywidgets.Button\n",
      " |              the triggering button\n",
      " |  \n",
      " |  refresh_click(self, b)\n",
      " |      Refresh grid layout\n",
      " |          b: ipywidgets.Button\n",
      " |             the triggering button\n",
      " |  \n",
      " |  table_value_change(self, change)\n",
      " |  \n",
      " |  width_change(self, change)\n",
      " |  \n",
      " |  ----------------------------------------------------------------------\n",
      " |  Data descriptors defined here:\n",
      " |  \n",
      " |  __dict__\n",
      " |      dictionary for instance variables (if defined)\n",
      " |  \n",
      " |  __weakref__\n",
      " |      list of weak references to the object (if defined)\n",
      "\n"
     ]
    }
   ],
   "source": [
    "help(grid1)"
   ]
  },
  {
   "cell_type": "code",
   "execution_count": null,
   "metadata": {},
   "outputs": [],
   "source": []
  }
 ],
 "metadata": {
  "kernelspec": {
   "display_name": "Python 3",
   "language": "python",
   "name": "python3"
  },
  "language_info": {
   "codemirror_mode": {
    "name": "ipython",
    "version": 3
   },
   "file_extension": ".py",
   "mimetype": "text/x-python",
   "name": "python",
   "nbconvert_exporter": "python",
   "pygments_lexer": "ipython3",
   "version": "3.8.3"
  }
 },
 "nbformat": 4,
 "nbformat_minor": 4
}
