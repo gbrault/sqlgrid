{
 "cells": [
  {
   "cell_type": "markdown",
   "metadata": {},
   "source": [
    "## DataBase connections"
   ]
  },
  {
   "cell_type": "code",
   "execution_count": 1,
   "metadata": {},
   "outputs": [],
   "source": [
    "%load_ext sql"
   ]
  },
  {
   "cell_type": "code",
   "execution_count": 2,
   "metadata": {},
   "outputs": [],
   "source": [
    "DIBACExportDate = \"2020-05-30\""
   ]
  },
  {
   "cell_type": "code",
   "execution_count": 3,
   "metadata": {},
   "outputs": [],
   "source": [
    "file = f\"VinkAuditP-{DIBACExportDate}.db\""
   ]
  },
  {
   "cell_type": "code",
   "execution_count": 4,
   "metadata": {},
   "outputs": [],
   "source": [
    "databaselite = f\"sqlite:///{file}\""
   ]
  },
  {
   "cell_type": "code",
   "execution_count": 5,
   "metadata": {},
   "outputs": [],
   "source": [
    "%sql $databaselite"
   ]
  },
  {
   "cell_type": "code",
   "execution_count": 6,
   "metadata": {},
   "outputs": [],
   "source": [
    "%config SqlMagic.displaycon=False"
   ]
  },
  {
   "cell_type": "code",
   "execution_count": 7,
   "metadata": {},
   "outputs": [],
   "source": [
    "%config SqlMagic.feedback=False"
   ]
  },
  {
   "cell_type": "code",
   "execution_count": 8,
   "metadata": {},
   "outputs": [],
   "source": [
    "import sqlgrid\n",
    "from traitlets import All\n",
    "import pandas as pd\n",
    "from ipywidgets import HBox, Layout"
   ]
  },
  {
   "cell_type": "code",
   "execution_count": 9,
   "metadata": {},
   "outputs": [],
   "source": [
    "import ipywidgets as widgets"
   ]
  },
  {
   "cell_type": "code",
   "execution_count": 10,
   "metadata": {},
   "outputs": [],
   "source": [
    "grid_options = {\n",
    "    # SlickGrid options\n",
    "    'fullWidthRows': False,\n",
    "    'syncColumnCellResize': True,\n",
    "    'forceFitColumns': True,\n",
    "    'defaultColumnWidth': 150,\n",
    "    'rowHeight': 28,\n",
    "    'enableColumnReorder': True,\n",
    "    'enableTextSelectionOnCells': True,\n",
    "    'editable': True,\n",
    "    'autoEdit': False,\n",
    "    'explicitInitialization': True,\n",
    "    'enableCellNavigation': True,\n",
    "\n",
    "    # Qgrid options\n",
    "    'maxVisibleRows': 10,\n",
    "    'minVisibleRows': 8,\n",
    "    'sortable': True,\n",
    "    'filterable': True,\n",
    "    'highlightSelectedCell': True,\n",
    "    'highlightSelectedRow': True\n",
    "}"
   ]
  },
  {
   "cell_type": "code",
   "execution_count": 11,
   "metadata": {},
   "outputs": [],
   "source": [
    "from sqlgrid.sqlData import sqlData"
   ]
  },
  {
   "cell_type": "code",
   "execution_count": 12,
   "metadata": {},
   "outputs": [],
   "source": [
    "out = widgets.Output(layout=Layout(border='1px solid black'))"
   ]
  },
  {
   "cell_type": "code",
   "execution_count": 13,
   "metadata": {},
   "outputs": [],
   "source": [
    "sql = sqlData(path=databaselite, table='sales_all', out=out)"
   ]
  },
  {
   "cell_type": "code",
   "execution_count": 14,
   "metadata": {},
   "outputs": [
    {
     "data": {
      "application/vnd.jupyter.widget-view+json": {
       "model_id": "43572227bba04af583eb605b5fff2eb5",
       "version_major": 2,
       "version_minor": 0
      },
      "text/plain": [
       "Output()"
      ]
     },
     "execution_count": 14,
     "metadata": {},
     "output_type": "execute_result"
    }
   ],
   "source": [
    "out"
   ]
  },
  {
   "cell_type": "code",
   "execution_count": 15,
   "metadata": {},
   "outputs": [],
   "source": [
    "grid = sqlgrid.gridctl(sql, grid_options=grid_options)"
   ]
  },
  {
   "cell_type": "code",
   "execution_count": 16,
   "metadata": {},
   "outputs": [
    {
     "data": {
      "application/vnd.jupyter.widget-view+json": {
       "model_id": "085177205904402a93bca401c2cecd55",
       "version_major": 2,
       "version_minor": 0
      },
      "text/plain": [
       "VBox(children=(VBox(children=(Button(icon='bars', layout=Layout(width='5%'), style=ButtonStyle(), tooltip='Sho…"
      ]
     },
     "execution_count": 16,
     "metadata": {},
     "output_type": "execute_result"
    }
   ],
   "source": [
    "grid._gridctl"
   ]
  },
  {
   "cell_type": "code",
   "execution_count": 17,
   "metadata": {},
   "outputs": [
    {
     "data": {
      "text/plain": [
       "{'index': {'name': 'index',\n",
       "  'type': 'integer',\n",
       "  'is_index': True,\n",
       "  'index_display_text': '',\n",
       "  'level': 0,\n",
       "  'first_index': True,\n",
       "  'position': 0,\n",
       "  'field': 'index',\n",
       "  'id': 'index',\n",
       "  'cssClass': 'integer',\n",
       "  'editable': False,\n",
       "  'defaultSortAsc': True,\n",
       "  'maxWidth': None,\n",
       "  'minWidth': 30,\n",
       "  'resizable': True,\n",
       "  'sortable': True,\n",
       "  'toolTip': '',\n",
       "  'width': None},\n",
       " 'sqlgrid_unfiltered_index': {'name': 'sqlgrid_unfiltered_index',\n",
       "  'type': 'integer',\n",
       "  'position': 1,\n",
       "  'field': 'sqlgrid_unfiltered_index',\n",
       "  'id': 'sqlgrid_unfiltered_index',\n",
       "  'cssClass': 'integer',\n",
       "  'editable': False,\n",
       "  'defaultSortAsc': True,\n",
       "  'maxWidth': None,\n",
       "  'minWidth': 30,\n",
       "  'resizable': True,\n",
       "  'sortable': True,\n",
       "  'toolTip': '',\n",
       "  'width': None},\n",
       " 'name': {'name': 'name',\n",
       "  'type': 'string',\n",
       "  'position': 2,\n",
       "  'field': 'name',\n",
       "  'id': 'name',\n",
       "  'cssClass': 'string',\n",
       "  'editable': False,\n",
       "  'defaultSortAsc': True,\n",
       "  'maxWidth': None,\n",
       "  'minWidth': 30,\n",
       "  'resizable': True,\n",
       "  'sortable': True,\n",
       "  'toolTip': '',\n",
       "  'width': None},\n",
       " 'type': {'name': 'type',\n",
       "  'type': 'string',\n",
       "  'position': 3,\n",
       "  'field': 'type',\n",
       "  'id': 'type',\n",
       "  'cssClass': 'string',\n",
       "  'editable': False,\n",
       "  'defaultSortAsc': True,\n",
       "  'maxWidth': None,\n",
       "  'minWidth': 30,\n",
       "  'resizable': True,\n",
       "  'sortable': True,\n",
       "  'toolTip': '',\n",
       "  'width': None},\n",
       " 'astype': {'name': 'astype',\n",
       "  'type': 'string',\n",
       "  'position': 4,\n",
       "  'field': 'astype',\n",
       "  'id': 'astype',\n",
       "  'cssClass': 'string',\n",
       "  'editable': True,\n",
       "  'defaultSortAsc': True,\n",
       "  'maxWidth': None,\n",
       "  'minWidth': 30,\n",
       "  'resizable': True,\n",
       "  'sortable': True,\n",
       "  'toolTip': '',\n",
       "  'width': None},\n",
       " 'position': {'name': 'position',\n",
       "  'type': 'integer',\n",
       "  'position': 5,\n",
       "  'field': 'position',\n",
       "  'id': 'position',\n",
       "  'cssClass': 'integer',\n",
       "  'editable': False,\n",
       "  'defaultSortAsc': True,\n",
       "  'maxWidth': None,\n",
       "  'minWidth': 30,\n",
       "  'resizable': True,\n",
       "  'sortable': True,\n",
       "  'toolTip': '',\n",
       "  'width': None},\n",
       " 'visible': {'name': 'visible',\n",
       "  'type': 'boolean',\n",
       "  'position': 6,\n",
       "  'field': 'visible',\n",
       "  'id': 'visible',\n",
       "  'cssClass': 'boolean',\n",
       "  'editable': True,\n",
       "  'defaultSortAsc': True,\n",
       "  'maxWidth': None,\n",
       "  'minWidth': 30,\n",
       "  'resizable': True,\n",
       "  'sortable': True,\n",
       "  'toolTip': '',\n",
       "  'width': None}}"
      ]
     },
     "execution_count": 17,
     "metadata": {},
     "output_type": "execute_result"
    }
   ],
   "source": [
    "grid._columns._columns"
   ]
  },
  {
   "cell_type": "code",
   "execution_count": null,
   "metadata": {},
   "outputs": [],
   "source": [
    "import numpy"
   ]
  },
  {
   "cell_type": "code",
   "execution_count": null,
   "metadata": {},
   "outputs": [],
   "source": [
    "t = grid._filter_tables"
   ]
  },
  {
   "cell_type": "code",
   "execution_count": null,
   "metadata": {},
   "outputs": [],
   "source": [
    "t"
   ]
  },
  {
   "cell_type": "code",
   "execution_count": null,
   "metadata": {},
   "outputs": [],
   "source": [
    "columns = grid._columns.copy()"
   ]
  },
  {
   "cell_type": "code",
   "execution_count": null,
   "metadata": {},
   "outputs": [],
   "source": [
    "list(columns.keys())"
   ]
  },
  {
   "cell_type": "code",
   "execution_count": null,
   "metadata": {},
   "outputs": [],
   "source": [
    "columns[list(columns.keys())[5]].keys()"
   ]
  },
  {
   "cell_type": "code",
   "execution_count": null,
   "metadata": {},
   "outputs": [],
   "source": [
    "columns['Order Num']"
   ]
  },
  {
   "cell_type": "code",
   "execution_count": null,
   "metadata": {},
   "outputs": [],
   "source": [
    "[(columns[col]['id'],columns[col]['position'],columns[col]['width']) for col in columns]"
   ]
  },
  {
   "cell_type": "code",
   "execution_count": null,
   "metadata": {},
   "outputs": [],
   "source": [
    "columns['Salesmanager']['filter_info']['selected']"
   ]
  },
  {
   "cell_type": "code",
   "execution_count": null,
   "metadata": {},
   "outputs": [],
   "source": [
    "'None' in [grid._filter_tables['Salesmanager'][i] for i in columns['Salesmanager']['filter_info']['selected']]"
   ]
  },
  {
   "cell_type": "code",
   "execution_count": null,
   "metadata": {},
   "outputs": [],
   "source": [
    "columns['CLASSIFICATION']['filter_info']"
   ]
  },
  {
   "cell_type": "code",
   "execution_count": null,
   "metadata": {},
   "outputs": [],
   "source": []
  },
  {
   "cell_type": "code",
   "execution_count": null,
   "metadata": {},
   "outputs": [],
   "source": [
    "classificationsql = %sql SELECT * FROM classification"
   ]
  },
  {
   "cell_type": "code",
   "execution_count": null,
   "metadata": {},
   "outputs": [],
   "source": [
    "classification = classificationsql.DataFrame()"
   ]
  },
  {
   "cell_type": "code",
   "execution_count": null,
   "metadata": {},
   "outputs": [],
   "source": [
    "sqlgrid.show_grid(classification, grid_options=grid_options)"
   ]
  },
  {
   "cell_type": "code",
   "execution_count": 17,
   "metadata": {},
   "outputs": [],
   "source": [
    "import sqlalchemy"
   ]
  },
  {
   "cell_type": "code",
   "execution_count": 18,
   "metadata": {},
   "outputs": [],
   "source": [
    "engine = sqlalchemy.create_engine(databaselite)"
   ]
  },
  {
   "cell_type": "code",
   "execution_count": 19,
   "metadata": {},
   "outputs": [],
   "source": [
    "table = \"sales_all\""
   ]
  },
  {
   "cell_type": "code",
   "execution_count": 20,
   "metadata": {},
   "outputs": [],
   "source": [
    "column = \"Salesmanager\""
   ]
  },
  {
   "cell_type": "code",
   "execution_count": 21,
   "metadata": {},
   "outputs": [],
   "source": [
    "from sqlalchemy.sql import text"
   ]
  },
  {
   "cell_type": "code",
   "execution_count": null,
   "metadata": {},
   "outputs": [],
   "source": [
    "statement = text(f\"SELECT min(`{column}`) AS `min`, max(`{column}`) AS `max` FROM `{table}`\")"
   ]
  },
  {
   "cell_type": "code",
   "execution_count": null,
   "metadata": {},
   "outputs": [],
   "source": [
    "statement = text(f\"SELECT * FROM `{table}` WHERE `{column}` IS NULL\")"
   ]
  },
  {
   "cell_type": "code",
   "execution_count": 22,
   "metadata": {},
   "outputs": [],
   "source": [
    "statement = text(f\"SELECT * FROM `{table}`\")"
   ]
  },
  {
   "cell_type": "code",
   "execution_count": 23,
   "metadata": {},
   "outputs": [],
   "source": [
    "conn = engine.connect()"
   ]
  },
  {
   "cell_type": "code",
   "execution_count": 24,
   "metadata": {},
   "outputs": [],
   "source": [
    "minmax = conn.execute(statement).fetchone()"
   ]
  },
  {
   "cell_type": "code",
   "execution_count": 27,
   "metadata": {},
   "outputs": [
    {
     "data": {
      "text/plain": [
       "['index',\n",
       " 'Product line',\n",
       " 'CLASSIFICATION',\n",
       " 'Invoice Date',\n",
       " 'Invoice Num',\n",
       " 'Order Num',\n",
       " 'Category Invoice',\n",
       " 'Salesmanager',\n",
       " 'Client Num',\n",
       " 'Client Name',\n",
       " 'Country',\n",
       " 'City',\n",
       " 'Article Num',\n",
       " 'Article Name',\n",
       " 'Packaging',\n",
       " 'Quantity',\n",
       " 'Batch Num',\n",
       " 'Volume',\n",
       " 'KG/LTR/STK',\n",
       " 'Unit Price',\n",
       " 'Turnover',\n",
       " 'Unit Cost',\n",
       " 'Costs of Goods Sold',\n",
       " 'Activity']"
      ]
     },
     "execution_count": 27,
     "metadata": {},
     "output_type": "execute_result"
    }
   ],
   "source": [
    "minmax.keys()"
   ]
  },
  {
   "cell_type": "code",
   "execution_count": null,
   "metadata": {},
   "outputs": [],
   "source": [
    "import ipdb"
   ]
  },
  {
   "cell_type": "code",
   "execution_count": null,
   "metadata": {},
   "outputs": [],
   "source": [
    "str(None)"
   ]
  },
  {
   "cell_type": "code",
   "execution_count": 16,
   "metadata": {},
   "outputs": [
    {
     "ename": "ModuleNotFoundError",
     "evalue": "No module named 'pybind'",
     "output_type": "error",
     "traceback": [
      "\u001b[1;31m---------------------------------------------------------------------------\u001b[0m",
      "\u001b[1;31mModuleNotFoundError\u001b[0m                       Traceback (most recent call last)",
      "\u001b[1;32m<ipython-input-16-7f7b62471046>\u001b[0m in \u001b[0;36m<module>\u001b[1;34m\u001b[0m\n\u001b[1;32m----> 1\u001b[1;33m \u001b[1;32mimport\u001b[0m \u001b[0mpybind\u001b[0m\u001b[1;33m\u001b[0m\u001b[1;33m\u001b[0m\u001b[0m\n\u001b[0m",
      "\u001b[1;31mModuleNotFoundError\u001b[0m: No module named 'pybind'"
     ]
    }
   ],
   "source": [
    "import pybind"
   ]
  },
  {
   "cell_type": "code",
   "execution_count": 17,
   "metadata": {},
   "outputs": [],
   "source": [
    "import functools"
   ]
  },
  {
   "cell_type": "code",
   "execution_count": 18,
   "metadata": {},
   "outputs": [],
   "source": [
    "from traitlets import (\n",
    "    Unicode,\n",
    "    Instance,\n",
    "    Bool,\n",
    "    Integer,\n",
    "    Dict,\n",
    "    List,\n",
    "    Tuple,\n",
    "    Any,\n",
    "    All,\n",
    "    parse_notifier_name\n",
    ")"
   ]
  },
  {
   "cell_type": "code",
   "execution_count": 19,
   "metadata": {},
   "outputs": [
    {
     "name": "stderr",
     "output_type": "stream",
     "text": [
      "<ipython-input-19-ac9f4e54bdc1>:1: DeprecationWarning: metadata {'sync': True} was set from the constructor. With traitlets 4.1, metadata should be set using the .tag() method, e.g., Int().tag(key1='value1', key2='value2')\n",
      "  _index_col_name = Unicode('sqlgrid_unfiltered_index', sync=True)\n"
     ]
    }
   ],
   "source": [
    "_index_col_name = Unicode('sqlgrid_unfiltered_index', sync=True)"
   ]
  },
  {
   "cell_type": "code",
   "execution_count": 21,
   "metadata": {},
   "outputs": [
    {
     "data": {
      "text/plain": [
       "'sqlgrid_unfiltered_index'"
      ]
     },
     "execution_count": 21,
     "metadata": {},
     "output_type": "execute_result"
    }
   ],
   "source": [
    "_index_col_name.default_value"
   ]
  },
  {
   "cell_type": "code",
   "execution_count": null,
   "metadata": {},
   "outputs": [],
   "source": []
  }
 ],
 "metadata": {
  "kernelspec": {
   "display_name": "Python 3",
   "language": "python",
   "name": "python3"
  },
  "language_info": {
   "codemirror_mode": {
    "name": "ipython",
    "version": 3
   },
   "file_extension": ".py",
   "mimetype": "text/x-python",
   "name": "python",
   "nbconvert_exporter": "python",
   "pygments_lexer": "ipython3",
   "version": "3.8.3"
  }
 },
 "nbformat": 4,
 "nbformat_minor": 4
}
